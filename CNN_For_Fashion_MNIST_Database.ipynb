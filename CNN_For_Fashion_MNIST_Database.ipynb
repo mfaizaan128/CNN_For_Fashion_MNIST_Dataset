{
 "cells": [
  {
   "cell_type": "code",
   "execution_count": 1,
   "id": "a063e8b7",
   "metadata": {},
   "outputs": [],
   "source": [
    "import pandas as pd\n",
    "import numpy as np\n",
    "from tensorflow import keras\n",
    "from sklearn.model_selection import train_test_split\n",
    "df= pd.read_csv('df-filteredfinalN.csv')\n",
    "from keras.losses import categorical_crossentropy\n",
    "from keras.utils import np_utils\n",
    "from keras.models import Sequential \n",
    "from keras.layers.convolutional import Conv2D, MaxPooling2D\n",
    "from keras.layers import Dense\n",
    "from keras.layers.core import Dropout, Activation, Flatten\n",
    "import seaborn as sns\n",
    "import matplotlib.pyplot as plt\n",
    "import timeit\n"
   ]
  },
  {
   "cell_type": "markdown",
   "id": "50af691b",
   "metadata": {},
   "source": [
    "In this part of the solution, different Convolutional Neural Network(CNN) models are created for the training data from the Fashion MNIST dataset[1]. The model is then tested on the test set and the accuracy is then measured. All the important block codes for creating the models are titled and explained below."
   ]
  },
  {
   "cell_type": "markdown",
   "id": "487e7588",
   "metadata": {},
   "source": [
    "# Forming the Dataframe 'df'"
   ]
  },
  {
   "cell_type": "markdown",
   "id": "bbbd9ce1",
   "metadata": {},
   "source": [
    "The block below was used to load the training x(features) dataset and training y(label) dataset named 'trainX.csv' and 'trainy.csv' respectively. Then, the 'Id' column present in the training x dataset is removed. Both datasets are concateneted to form the 'df' dataframe. "
   ]
  },
  {
   "cell_type": "code",
   "execution_count": 2,
   "id": "e45ea43c",
   "metadata": {
    "scrolled": true
   },
   "outputs": [
    {
     "data": {
      "text/html": [
       "<div>\n",
       "<style scoped>\n",
       "    .dataframe tbody tr th:only-of-type {\n",
       "        vertical-align: middle;\n",
       "    }\n",
       "\n",
       "    .dataframe tbody tr th {\n",
       "        vertical-align: top;\n",
       "    }\n",
       "\n",
       "    .dataframe thead th {\n",
       "        text-align: right;\n",
       "    }\n",
       "</style>\n",
       "<table border=\"1\" class=\"dataframe\">\n",
       "  <thead>\n",
       "    <tr style=\"text-align: right;\">\n",
       "      <th></th>\n",
       "      <th>0</th>\n",
       "      <th>1</th>\n",
       "      <th>2</th>\n",
       "      <th>3</th>\n",
       "      <th>4</th>\n",
       "      <th>5</th>\n",
       "      <th>6</th>\n",
       "      <th>7</th>\n",
       "      <th>8</th>\n",
       "      <th>9</th>\n",
       "      <th>...</th>\n",
       "      <th>775</th>\n",
       "      <th>776</th>\n",
       "      <th>777</th>\n",
       "      <th>778</th>\n",
       "      <th>779</th>\n",
       "      <th>780</th>\n",
       "      <th>781</th>\n",
       "      <th>782</th>\n",
       "      <th>783</th>\n",
       "      <th>Label</th>\n",
       "    </tr>\n",
       "  </thead>\n",
       "  <tbody>\n",
       "    <tr>\n",
       "      <th>count</th>\n",
       "      <td>60000.000000</td>\n",
       "      <td>60000.000000</td>\n",
       "      <td>60000.000000</td>\n",
       "      <td>60000.000000</td>\n",
       "      <td>60000.000000</td>\n",
       "      <td>60000.000000</td>\n",
       "      <td>60000.000000</td>\n",
       "      <td>60000.000000</td>\n",
       "      <td>60000.000000</td>\n",
       "      <td>60000.000000</td>\n",
       "      <td>...</td>\n",
       "      <td>60000.000000</td>\n",
       "      <td>60000.000000</td>\n",
       "      <td>60000.000000</td>\n",
       "      <td>60000.000000</td>\n",
       "      <td>60000.000000</td>\n",
       "      <td>60000.000000</td>\n",
       "      <td>60000.000000</td>\n",
       "      <td>60000.000000</td>\n",
       "      <td>60000.000000</td>\n",
       "      <td>60000.000000</td>\n",
       "    </tr>\n",
       "    <tr>\n",
       "      <th>mean</th>\n",
       "      <td>0.000483</td>\n",
       "      <td>0.006067</td>\n",
       "      <td>0.033700</td>\n",
       "      <td>0.090450</td>\n",
       "      <td>0.241383</td>\n",
       "      <td>0.392517</td>\n",
       "      <td>0.777333</td>\n",
       "      <td>2.158300</td>\n",
       "      <td>5.597000</td>\n",
       "      <td>14.485433</td>\n",
       "      <td>...</td>\n",
       "      <td>23.297883</td>\n",
       "      <td>16.652150</td>\n",
       "      <td>17.953617</td>\n",
       "      <td>22.969333</td>\n",
       "      <td>17.967350</td>\n",
       "      <td>8.525333</td>\n",
       "      <td>2.753883</td>\n",
       "      <td>0.832950</td>\n",
       "      <td>0.072850</td>\n",
       "      <td>2.002933</td>\n",
       "    </tr>\n",
       "    <tr>\n",
       "      <th>std</th>\n",
       "      <td>0.061507</td>\n",
       "      <td>0.292286</td>\n",
       "      <td>1.178115</td>\n",
       "      <td>2.306445</td>\n",
       "      <td>4.365543</td>\n",
       "      <td>5.702057</td>\n",
       "      <td>8.023953</td>\n",
       "      <td>13.942884</td>\n",
       "      <td>23.572943</td>\n",
       "      <td>38.252977</td>\n",
       "      <td>...</td>\n",
       "      <td>48.952580</td>\n",
       "      <td>42.147395</td>\n",
       "      <td>43.985951</td>\n",
       "      <td>51.856475</td>\n",
       "      <td>45.225807</td>\n",
       "      <td>29.529071</td>\n",
       "      <td>17.396211</td>\n",
       "      <td>9.263115</td>\n",
       "      <td>2.131444</td>\n",
       "      <td>1.415000</td>\n",
       "    </tr>\n",
       "    <tr>\n",
       "      <th>min</th>\n",
       "      <td>0.000000</td>\n",
       "      <td>0.000000</td>\n",
       "      <td>0.000000</td>\n",
       "      <td>0.000000</td>\n",
       "      <td>0.000000</td>\n",
       "      <td>0.000000</td>\n",
       "      <td>0.000000</td>\n",
       "      <td>0.000000</td>\n",
       "      <td>0.000000</td>\n",
       "      <td>0.000000</td>\n",
       "      <td>...</td>\n",
       "      <td>0.000000</td>\n",
       "      <td>0.000000</td>\n",
       "      <td>0.000000</td>\n",
       "      <td>0.000000</td>\n",
       "      <td>0.000000</td>\n",
       "      <td>0.000000</td>\n",
       "      <td>0.000000</td>\n",
       "      <td>0.000000</td>\n",
       "      <td>0.000000</td>\n",
       "      <td>0.000000</td>\n",
       "    </tr>\n",
       "    <tr>\n",
       "      <th>25%</th>\n",
       "      <td>0.000000</td>\n",
       "      <td>0.000000</td>\n",
       "      <td>0.000000</td>\n",
       "      <td>0.000000</td>\n",
       "      <td>0.000000</td>\n",
       "      <td>0.000000</td>\n",
       "      <td>0.000000</td>\n",
       "      <td>0.000000</td>\n",
       "      <td>0.000000</td>\n",
       "      <td>0.000000</td>\n",
       "      <td>...</td>\n",
       "      <td>0.000000</td>\n",
       "      <td>0.000000</td>\n",
       "      <td>0.000000</td>\n",
       "      <td>0.000000</td>\n",
       "      <td>0.000000</td>\n",
       "      <td>0.000000</td>\n",
       "      <td>0.000000</td>\n",
       "      <td>0.000000</td>\n",
       "      <td>0.000000</td>\n",
       "      <td>1.000000</td>\n",
       "    </tr>\n",
       "    <tr>\n",
       "      <th>50%</th>\n",
       "      <td>0.000000</td>\n",
       "      <td>0.000000</td>\n",
       "      <td>0.000000</td>\n",
       "      <td>0.000000</td>\n",
       "      <td>0.000000</td>\n",
       "      <td>0.000000</td>\n",
       "      <td>0.000000</td>\n",
       "      <td>0.000000</td>\n",
       "      <td>0.000000</td>\n",
       "      <td>0.000000</td>\n",
       "      <td>...</td>\n",
       "      <td>0.000000</td>\n",
       "      <td>0.000000</td>\n",
       "      <td>0.000000</td>\n",
       "      <td>0.000000</td>\n",
       "      <td>0.000000</td>\n",
       "      <td>0.000000</td>\n",
       "      <td>0.000000</td>\n",
       "      <td>0.000000</td>\n",
       "      <td>0.000000</td>\n",
       "      <td>2.000000</td>\n",
       "    </tr>\n",
       "    <tr>\n",
       "      <th>75%</th>\n",
       "      <td>0.000000</td>\n",
       "      <td>0.000000</td>\n",
       "      <td>0.000000</td>\n",
       "      <td>0.000000</td>\n",
       "      <td>0.000000</td>\n",
       "      <td>0.000000</td>\n",
       "      <td>0.000000</td>\n",
       "      <td>0.000000</td>\n",
       "      <td>0.000000</td>\n",
       "      <td>0.000000</td>\n",
       "      <td>...</td>\n",
       "      <td>8.000000</td>\n",
       "      <td>0.000000</td>\n",
       "      <td>0.000000</td>\n",
       "      <td>1.000000</td>\n",
       "      <td>0.000000</td>\n",
       "      <td>0.000000</td>\n",
       "      <td>0.000000</td>\n",
       "      <td>0.000000</td>\n",
       "      <td>0.000000</td>\n",
       "      <td>3.000000</td>\n",
       "    </tr>\n",
       "    <tr>\n",
       "      <th>max</th>\n",
       "      <td>14.000000</td>\n",
       "      <td>45.000000</td>\n",
       "      <td>218.000000</td>\n",
       "      <td>185.000000</td>\n",
       "      <td>227.000000</td>\n",
       "      <td>229.000000</td>\n",
       "      <td>224.000000</td>\n",
       "      <td>225.000000</td>\n",
       "      <td>254.000000</td>\n",
       "      <td>255.000000</td>\n",
       "      <td>...</td>\n",
       "      <td>255.000000</td>\n",
       "      <td>255.000000</td>\n",
       "      <td>255.000000</td>\n",
       "      <td>255.000000</td>\n",
       "      <td>255.000000</td>\n",
       "      <td>255.000000</td>\n",
       "      <td>255.000000</td>\n",
       "      <td>255.000000</td>\n",
       "      <td>170.000000</td>\n",
       "      <td>4.000000</td>\n",
       "    </tr>\n",
       "  </tbody>\n",
       "</table>\n",
       "<p>8 rows × 785 columns</p>\n",
       "</div>"
      ],
      "text/plain": [
       "                  0             1             2             3             4  \\\n",
       "count  60000.000000  60000.000000  60000.000000  60000.000000  60000.000000   \n",
       "mean       0.000483      0.006067      0.033700      0.090450      0.241383   \n",
       "std        0.061507      0.292286      1.178115      2.306445      4.365543   \n",
       "min        0.000000      0.000000      0.000000      0.000000      0.000000   \n",
       "25%        0.000000      0.000000      0.000000      0.000000      0.000000   \n",
       "50%        0.000000      0.000000      0.000000      0.000000      0.000000   \n",
       "75%        0.000000      0.000000      0.000000      0.000000      0.000000   \n",
       "max       14.000000     45.000000    218.000000    185.000000    227.000000   \n",
       "\n",
       "                  5             6             7             8             9  \\\n",
       "count  60000.000000  60000.000000  60000.000000  60000.000000  60000.000000   \n",
       "mean       0.392517      0.777333      2.158300      5.597000     14.485433   \n",
       "std        5.702057      8.023953     13.942884     23.572943     38.252977   \n",
       "min        0.000000      0.000000      0.000000      0.000000      0.000000   \n",
       "25%        0.000000      0.000000      0.000000      0.000000      0.000000   \n",
       "50%        0.000000      0.000000      0.000000      0.000000      0.000000   \n",
       "75%        0.000000      0.000000      0.000000      0.000000      0.000000   \n",
       "max      229.000000    224.000000    225.000000    254.000000    255.000000   \n",
       "\n",
       "       ...           775           776           777           778  \\\n",
       "count  ...  60000.000000  60000.000000  60000.000000  60000.000000   \n",
       "mean   ...     23.297883     16.652150     17.953617     22.969333   \n",
       "std    ...     48.952580     42.147395     43.985951     51.856475   \n",
       "min    ...      0.000000      0.000000      0.000000      0.000000   \n",
       "25%    ...      0.000000      0.000000      0.000000      0.000000   \n",
       "50%    ...      0.000000      0.000000      0.000000      0.000000   \n",
       "75%    ...      8.000000      0.000000      0.000000      1.000000   \n",
       "max    ...    255.000000    255.000000    255.000000    255.000000   \n",
       "\n",
       "                779           780           781           782           783  \\\n",
       "count  60000.000000  60000.000000  60000.000000  60000.000000  60000.000000   \n",
       "mean      17.967350      8.525333      2.753883      0.832950      0.072850   \n",
       "std       45.225807     29.529071     17.396211      9.263115      2.131444   \n",
       "min        0.000000      0.000000      0.000000      0.000000      0.000000   \n",
       "25%        0.000000      0.000000      0.000000      0.000000      0.000000   \n",
       "50%        0.000000      0.000000      0.000000      0.000000      0.000000   \n",
       "75%        0.000000      0.000000      0.000000      0.000000      0.000000   \n",
       "max      255.000000    255.000000    255.000000    255.000000    170.000000   \n",
       "\n",
       "              Label  \n",
       "count  60000.000000  \n",
       "mean       2.002933  \n",
       "std        1.415000  \n",
       "min        0.000000  \n",
       "25%        1.000000  \n",
       "50%        2.000000  \n",
       "75%        3.000000  \n",
       "max        4.000000  \n",
       "\n",
       "[8 rows x 785 columns]"
      ]
     },
     "execution_count": 2,
     "metadata": {},
     "output_type": "execute_result"
    }
   ],
   "source": [
    "\n",
    "\n",
    "cols = list(pd.read_csv(\"trainX.csv\", nrows =1))\n",
    "\n",
    "xt=pd.read_csv('trainX.csv', usecols = [i for i in cols if i != 'Id'])\n",
    "\n",
    "yt=pd.read_csv('trainy.csv')\n",
    "\n",
    "df=pd.concat([xt,yt], axis=1)\n",
    "\n",
    "del df['Id']\n",
    "\n",
    "xtest=pd.read_csv('testX.csv')\n",
    "\n",
    "ytest=pd.read_csv('testy.csv')\n",
    "\n",
    "del xtest['Id']\n",
    "del ytest['Id']\n",
    "\n",
    "\n",
    "df.describe()"
   ]
  },
  {
   "cell_type": "markdown",
   "id": "058402f9",
   "metadata": {},
   "source": [
    "# Dividing Features and Encoding Labels"
   ]
  },
  {
   "cell_type": "markdown",
   "id": "001a1339",
   "metadata": {},
   "source": [
    "The block below is used to separate the dependent and independent features. The labels are also encoded using one hot coding. "
   ]
  },
  {
   "cell_type": "code",
   "execution_count": 3,
   "id": "a98b92ae",
   "metadata": {
    "scrolled": true
   },
   "outputs": [],
   "source": [
    "\n",
    "#Separating dependent and independent features\n",
    "\n",
    "x =df.loc[:,'0':'783'].values.reshape(len(df),28,28,1)\n",
    "\n",
    "y1 = df[' Label'].values\n",
    "\n",
    "\n",
    "#One hot ecoding for label\n",
    "\n",
    "y = keras.utils.to_categorical(y1, num_classes=5)\n",
    "\n"
   ]
  },
  {
   "cell_type": "markdown",
   "id": "68566d0a",
   "metadata": {},
   "source": [
    "# Splitting Train and Test Sets"
   ]
  },
  {
   "cell_type": "markdown",
   "id": "f439f85c",
   "metadata": {},
   "source": [
    "The Train and Test sets are separarted with the test size being 0.2."
   ]
  },
  {
   "cell_type": "code",
   "execution_count": 4,
   "id": "a80bf9ac",
   "metadata": {},
   "outputs": [],
   "source": [
    "  x_train, x_test, y_train, y_test = train_test_split(x,y,test_size=0.2,random_state=275)\n",
    "  x_train=x_train.astype('float32')\n",
    "  xtest=xtest.astype('float32')\n"
   ]
  },
  {
   "cell_type": "markdown",
   "id": "da9543f6",
   "metadata": {},
   "source": [
    "# Model 1: 2 Convolutionational Layers with 32 Filters(ReLU Activation)"
   ]
  },
  {
   "cell_type": "markdown",
   "id": "6a442d48",
   "metadata": {},
   "source": [
    "The model created in the block below contains 2 convolutional layers with 32 filter, ReLU activation and 'Same' padding."
   ]
  },
  {
   "cell_type": "code",
   "execution_count": 44,
   "id": "7c467fa2",
   "metadata": {},
   "outputs": [
    {
     "name": "stdout",
     "output_type": "stream",
     "text": [
      "Epoch 1/15\n",
      "1005/1005 [==============================] - 67s 64ms/step - loss: 0.9458 - accuracy: 0.6745 - val_loss: 0.6141 - val_accuracy: 0.7429\n",
      "Epoch 2/15\n",
      "1005/1005 [==============================] - 64s 64ms/step - loss: 0.5618 - accuracy: 0.7579 - val_loss: 0.5494 - val_accuracy: 0.7658\n",
      "Epoch 3/15\n",
      "1005/1005 [==============================] - 69s 68ms/step - loss: 0.5015 - accuracy: 0.7865 - val_loss: 0.5002 - val_accuracy: 0.7896\n",
      "Epoch 4/15\n",
      "1005/1005 [==============================] - 64s 63ms/step - loss: 0.4502 - accuracy: 0.8078 - val_loss: 0.5001 - val_accuracy: 0.7902\n",
      "Epoch 5/15\n",
      "1005/1005 [==============================] - 68s 68ms/step - loss: 0.4129 - accuracy: 0.8230 - val_loss: 0.4725 - val_accuracy: 0.8032\n",
      "Epoch 6/15\n",
      "1005/1005 [==============================] - 70s 69ms/step - loss: 0.3861 - accuracy: 0.8363 - val_loss: 0.5028 - val_accuracy: 0.8093\n",
      "Epoch 7/15\n",
      "1005/1005 [==============================] - 72s 72ms/step - loss: 0.3611 - accuracy: 0.8462 - val_loss: 0.4950 - val_accuracy: 0.8044\n",
      "Epoch 8/15\n",
      "1005/1005 [==============================] - 52s 52ms/step - loss: 0.3362 - accuracy: 0.8605 - val_loss: 0.5078 - val_accuracy: 0.8094\n",
      "Epoch 9/15\n",
      "1005/1005 [==============================] - 36s 35ms/step - loss: 0.3130 - accuracy: 0.8696 - val_loss: 0.4860 - val_accuracy: 0.8205\n",
      "Epoch 10/15\n",
      "1005/1005 [==============================] - 37s 36ms/step - loss: 0.2906 - accuracy: 0.8801 - val_loss: 0.5109 - val_accuracy: 0.8180\n",
      "Epoch 11/15\n",
      "1005/1005 [==============================] - 37s 37ms/step - loss: 0.2651 - accuracy: 0.8909 - val_loss: 0.6107 - val_accuracy: 0.8008\n",
      "Epoch 12/15\n",
      "1005/1005 [==============================] - 37s 37ms/step - loss: 0.2546 - accuracy: 0.8954 - val_loss: 0.5514 - val_accuracy: 0.8143\n",
      "Epoch 13/15\n",
      "1005/1005 [==============================] - 34s 34ms/step - loss: 0.2341 - accuracy: 0.9049 - val_loss: 0.5930 - val_accuracy: 0.8147\n",
      "Epoch 14/15\n",
      "1005/1005 [==============================] - 37s 37ms/step - loss: 0.2282 - accuracy: 0.9080 - val_loss: 0.6199 - val_accuracy: 0.8061\n",
      "Epoch 15/15\n",
      "1005/1005 [==============================] - 38s 38ms/step - loss: 0.2140 - accuracy: 0.9140 - val_loss: 0.6658 - val_accuracy: 0.8061\n"
     ]
    }
   ],
   "source": [
    "model1 = Sequential()\n",
    "\n",
    "model1.add(Conv2D(filters = 32, kernel_size = (5,5),padding = 'Same', \n",
    "                 activation ='relu', input_shape = (28,28,1)))\n",
    "model1.add(MaxPooling2D(pool_size=(2,2)))\n",
    "\n",
    "\n",
    "model1.add(Conv2D(filters = 32, kernel_size = (3,3),padding = 'Same', \n",
    "                 activation ='relu'))\n",
    "model1.add(MaxPooling2D(pool_size=(2,2), strides=(2,2)))\n",
    "\n",
    "model1.add(Flatten())\n",
    "model1.add(Dense(150, activation = \"relu\"))\n",
    "model1.add(Dense(5, activation = \"softmax\"))\n",
    "\n",
    "\n",
    "model1.compile(optimizer = keras.optimizers.Adam() , loss = \"categorical_crossentropy\", metrics=[\"accuracy\"])\n",
    "\n",
    "start=timeit.default_timer()\n",
    "classifier1=model1.fit(x_train,y_train,batch_size = 32,epochs = 15,verbose=1,validation_split= 0.33)\n",
    "stop=timeit.default_timer()\n",
    "\n",
    "\n"
   ]
  },
  {
   "cell_type": "markdown",
   "id": "437e297a",
   "metadata": {},
   "source": [
    "# Model 1 Training Accuracy:"
   ]
  },
  {
   "cell_type": "markdown",
   "id": "dc6f6ebb",
   "metadata": {},
   "source": [
    "The block below trains Model 1 and prints the total training time, the training accuracy and the validation accuracy."
   ]
  },
  {
   "cell_type": "code",
   "execution_count": 55,
   "id": "82916f89",
   "metadata": {
    "scrolled": true
   },
   "outputs": [
    {
     "name": "stdout",
     "output_type": "stream",
     "text": [
      "Max. Accuracy for the Training Set:\n",
      "0.9146117568016052\n",
      "Max. Accuracy for the Validation Set:\n",
      "0.8152894377708435\n"
     ]
    }
   ],
   "source": [
    "print('Max. Accuracy for the Training Set:')\n",
    "print(max(classifier1.history['accuracy']))\n",
    "\n",
    "print('Max. Accuracy for the Validation Set:')\n",
    "print(max(classifier1.history['val_accuracy']))\n"
   ]
  },
  {
   "cell_type": "markdown",
   "id": "72e4e6d6",
   "metadata": {},
   "source": [
    "A 91.46 percent of accuracy was achieved in the training set and a 81.53 percent of accuracy was achieved in the validation set."
   ]
  },
  {
   "cell_type": "markdown",
   "id": "80eaf63b",
   "metadata": {},
   "source": [
    "# Training Loss vs. Training Epoch Plot"
   ]
  },
  {
   "cell_type": "code",
   "execution_count": 19,
   "id": "bfb125f7",
   "metadata": {
    "scrolled": true
   },
   "outputs": [
    {
     "data": {
      "text/plain": [
       "<matplotlib.legend.Legend at 0x23386af4fa0>"
      ]
     },
     "execution_count": 19,
     "metadata": {},
     "output_type": "execute_result"
    },
    {
     "data": {
      "image/png": "[encoded data removed]",
      "text/plain": [
       "<Figure size 432x288 with 1 Axes>"
      ]
     },
     "metadata": {
      "needs_background": "light"
     },
     "output_type": "display_data"
    }
   ],
   "source": [
    "y= classifier1.history['loss']\n",
    "x= range(0,15)\n",
    "y1=classifier1.history['val_loss']\n",
    "\n",
    "plt.plot(x,y,label='Training Loss')\n",
    "plt.plot(x,y1,'g',label='Validation Loss')\n",
    "\n",
    "plt.ylabel('Training Loss')\n",
    "plt.xlabel('Training Epoch')\n",
    "plt.title('Training Loss Vs. Training Epoch Plot ')\n",
    "plt.legend(['Training','Validation'])"
   ]
  },
  {
   "cell_type": "markdown",
   "id": "b9cb5e7a",
   "metadata": {},
   "source": [
    "      Figure 1. Training Loss Vs. Training Epoch Plot"
   ]
  },
  {
   "cell_type": "markdown",
   "id": "354d7c31",
   "metadata": {},
   "source": [
    "# Classification Accuracy Vs. Training Epoch Plot"
   ]
  },
  {
   "cell_type": "code",
   "execution_count": 20,
   "id": "20bd02fc",
   "metadata": {},
   "outputs": [
    {
     "data": {
      "text/plain": [
       "<matplotlib.legend.Legend at 0x23386b36b80>"
      ]
     },
     "execution_count": 20,
     "metadata": {},
     "output_type": "execute_result"
    },
    {
     "data": {
      "image/png": "[encoded data removed]",
      "text/plain": [
       "<Figure size 432x288 with 1 Axes>"
      ]
     },
     "metadata": {
      "needs_background": "light"
     },
     "output_type": "display_data"
    }
   ],
   "source": [
    "y= classifier1.history['accuracy']\n",
    "y1= classifier1.history['val_accuracy']\n",
    "x= range(0,15)\n",
    "\n",
    "plt.plot(x,y, label='Training Accuracy')\n",
    "plt.plot(x,y1,'g', label='Validation Accuracy')\n",
    "\n",
    "plt.ylabel('Classification Accuracy')\n",
    "plt.xlabel('Training Epoch')\n",
    "plt.title('Classification Accuracy Vs. Training Epoch Plot ')\n",
    "plt.legend(['Training','Validation'])"
   ]
  },
  {
   "cell_type": "markdown",
   "id": "cedc44a8",
   "metadata": {},
   "source": [
    "    Figure 2. Classification Accuracy Vs. Training Epoch Plot"
   ]
  },
  {
   "cell_type": "markdown",
   "id": "d18b45f3",
   "metadata": {},
   "source": [
    "# Model 2: 2 Convolutionational Layers with 16 Filters(ReLU Activation), Valid Padding, and Dropout(0.5)"
   ]
  },
  {
   "cell_type": "markdown",
   "id": "fad883b7",
   "metadata": {},
   "source": [
    "The model created in the block below contains 2 convolutional layers with 16 filter, ReLU activation and 'Valid' padding[2] with a dropout of 0.5."
   ]
  },
  {
   "cell_type": "markdown",
   "id": "d6b51e58",
   "metadata": {},
   "source": [
    "# Model 2 Training Accuracy:"
   ]
  },
  {
   "cell_type": "code",
   "execution_count": 48,
   "id": "efae348d",
   "metadata": {},
   "outputs": [
    {
     "name": "stdout",
     "output_type": "stream",
     "text": [
      "Epoch 1/20\n",
      "1005/1005 [==============================] - 29s 26ms/step - loss: 1.2856 - accuracy: 0.6179 - val_loss: 0.7287 - val_accuracy: 0.6839\n",
      "Epoch 2/20\n",
      "1005/1005 [==============================] - 33s 32ms/step - loss: 0.6838 - accuracy: 0.7057 - val_loss: 0.6547 - val_accuracy: 0.7213\n",
      "Epoch 3/20\n",
      "1005/1005 [==============================] - 38s 38ms/step - loss: 0.5973 - accuracy: 0.7450 - val_loss: 0.5962 - val_accuracy: 0.7493\n",
      "Epoch 4/20\n",
      "1005/1005 [==============================] - 36s 36ms/step - loss: 0.5474 - accuracy: 0.7670 - val_loss: 0.5743 - val_accuracy: 0.7569\n",
      "Epoch 5/20\n",
      "1005/1005 [==============================] - 33s 33ms/step - loss: 0.5120 - accuracy: 0.7815 - val_loss: 0.6163 - val_accuracy: 0.7366\n",
      "Epoch 6/20\n",
      "1005/1005 [==============================] - 36s 35ms/step - loss: 0.4799 - accuracy: 0.7978 - val_loss: 0.5422 - val_accuracy: 0.7763\n",
      "Epoch 7/20\n",
      "1005/1005 [==============================] - 36s 36ms/step - loss: 0.4578 - accuracy: 0.8061 - val_loss: 0.5591 - val_accuracy: 0.7700\n",
      "Epoch 8/20\n",
      "1005/1005 [==============================] - 42s 42ms/step - loss: 0.4373 - accuracy: 0.8153 - val_loss: 0.5829 - val_accuracy: 0.7606\n",
      "Epoch 9/20\n",
      "1005/1005 [==============================] - 43s 43ms/step - loss: 0.4181 - accuracy: 0.8244 - val_loss: 0.5922 - val_accuracy: 0.7597\n",
      "Epoch 10/20\n",
      "1005/1005 [==============================] - 41s 41ms/step - loss: 0.3961 - accuracy: 0.8328 - val_loss: 0.5764 - val_accuracy: 0.7787\n",
      "Epoch 11/20\n",
      "1005/1005 [==============================] - 40s 40ms/step - loss: 0.3799 - accuracy: 0.8419 - val_loss: 0.6003 - val_accuracy: 0.7722\n",
      "Epoch 12/20\n",
      "1005/1005 [==============================] - 41s 40ms/step - loss: 0.3658 - accuracy: 0.8464 - val_loss: 0.6132 - val_accuracy: 0.7845\n",
      "Epoch 13/20\n",
      "1005/1005 [==============================] - 40s 40ms/step - loss: 0.3497 - accuracy: 0.8521 - val_loss: 0.6889 - val_accuracy: 0.7708\n",
      "Epoch 14/20\n",
      "1005/1005 [==============================] - 40s 40ms/step - loss: 0.3471 - accuracy: 0.8554 - val_loss: 0.6349 - val_accuracy: 0.7801\n",
      "Epoch 15/20\n",
      "1005/1005 [==============================] - 41s 40ms/step - loss: 0.3271 - accuracy: 0.8613 - val_loss: 0.6290 - val_accuracy: 0.7880\n",
      "Epoch 16/20\n",
      "1005/1005 [==============================] - 40s 40ms/step - loss: 0.3255 - accuracy: 0.8655 - val_loss: 0.7700 - val_accuracy: 0.7529\n",
      "Epoch 17/20\n",
      "1005/1005 [==============================] - 40s 40ms/step - loss: 0.3139 - accuracy: 0.8684 - val_loss: 0.6969 - val_accuracy: 0.7705\n",
      "Epoch 18/20\n",
      "1005/1005 [==============================] - 40s 40ms/step - loss: 0.3007 - accuracy: 0.8759 - val_loss: 0.7729 - val_accuracy: 0.7766\n",
      "Epoch 19/20\n",
      "1005/1005 [==============================] - 41s 41ms/step - loss: 0.2885 - accuracy: 0.8795 - val_loss: 0.7508 - val_accuracy: 0.7875\n",
      "Epoch 20/20\n",
      "1005/1005 [==============================] - 42s 42ms/step - loss: 0.2776 - accuracy: 0.8852 - val_loss: 0.8767 - val_accuracy: 0.7679\n"
     ]
    }
   ],
   "source": [
    "model2 = Sequential()\n",
    "\n",
    "model2.add(Conv2D(filters = 16, kernel_size = (5,5),padding = 'Valid', \n",
    "                 activation ='relu', input_shape = (28,28,1)))\n",
    "model2.add(MaxPooling2D(pool_size=(2,2)))\n",
    "\n",
    "\n",
    "model2.add(Conv2D(filters = 16, kernel_size = (3,3),padding = 'Valid', \n",
    "                 activation ='relu'))\n",
    "model2.add(MaxPooling2D(pool_size=(2,2), strides=(2,2)))\n",
    "\n",
    "model2.add(Flatten())\n",
    "model2.add(Dense(150, activation = \"relu\"))\n",
    "model2.add(Dense(5, activation = \"softmax\"))\n",
    "\n",
    "\n",
    "model2.compile(optimizer = keras.optimizers.Adam() , loss = \"categorical_crossentropy\", metrics=[\"accuracy\"])\n",
    "\n",
    "classifier2=model2.fit(x_train,y_train,batch_size = 32,epochs = 20,verbose=1,validation_split= 0.33)\n",
    "\n",
    "\n"
   ]
  },
  {
   "cell_type": "markdown",
   "id": "44c0ebe9",
   "metadata": {},
   "source": [
    "The block below prints the total training time, the training accuracy and the validation accuracy."
   ]
  },
  {
   "cell_type": "code",
   "execution_count": 8,
   "id": "bf6d8915",
   "metadata": {},
   "outputs": [
    {
     "name": "stdout",
     "output_type": "stream",
     "text": [
      "Max. Accuracy for the Training Set:\n",
      "0.8856307864189148\n",
      "Max. Accuracy for the Validation Set:\n",
      "0.7944574356079102\n"
     ]
    }
   ],
   "source": [
    "\n",
    "print('Max. Accuracy for the Training Set:')\n",
    "print(max(classifier2.history['accuracy']))\n",
    "\n",
    "print('Max. Accuracy for the Validation Set:')\n",
    "print(max(classifier2.history['val_accuracy']))\n"
   ]
  },
  {
   "cell_type": "markdown",
   "id": "7479a3ff",
   "metadata": {},
   "source": [
    "# Training Loss vs. Training Epoch Plot"
   ]
  },
  {
   "cell_type": "code",
   "execution_count": 51,
   "id": "a21ef93e",
   "metadata": {},
   "outputs": [
    {
     "data": {
      "text/plain": [
       "<matplotlib.legend.Legend at 0x22589d73700>"
      ]
     },
     "execution_count": 51,
     "metadata": {},
     "output_type": "execute_result"
    },
    {
     "data": {
      "image/png": "[encoded data removed]",
      "text/plain": [
       "<Figure size 432x288 with 1 Axes>"
      ]
     },
     "metadata": {
      "needs_background": "light"
     },
     "output_type": "display_data"
    }
   ],
   "source": [
    "y= classifier2.history['loss']\n",
    "x= range(0,20)\n",
    "y1=classifier2.history['val_loss']\n",
    "\n",
    "plt.plot(x,y,label='Training Loss')\n",
    "plt.plot(x,y1,'g',label='Validation Loss')\n",
    "\n",
    "plt.ylabel('Training Loss')\n",
    "plt.xlabel('Training Epoch')\n",
    "plt.title('Training Loss Vs. Training Epoch Plot ')\n",
    "plt.legend(['Training','Validation'])"
   ]
  },
  {
   "cell_type": "markdown",
   "id": "0e541d4e",
   "metadata": {},
   "source": [
    "        Figure 3. Training Loss Vs. Training Epoch Plot"
   ]
  },
  {
   "cell_type": "markdown",
   "id": "14074e8d",
   "metadata": {},
   "source": [
    "# Classification Accuracy Vs. Training Epoch Plot"
   ]
  },
  {
   "cell_type": "code",
   "execution_count": 52,
   "id": "ff092aef",
   "metadata": {},
   "outputs": [
    {
     "data": {
      "text/plain": [
       "<matplotlib.legend.Legend at 0x2258965edf0>"
      ]
     },
     "execution_count": 52,
     "metadata": {},
     "output_type": "execute_result"
    },
    {
     "data": {
      "image/png": "[encoded data removed]",
      "text/plain": [
       "<Figure size 432x288 with 1 Axes>"
      ]
     },
     "metadata": {
      "needs_background": "light"
     },
     "output_type": "display_data"
    }
   ],
   "source": [
    "y= classifier2.history['accuracy']\n",
    "y1= classifier2.history['val_accuracy']\n",
    "x= range(0,20)\n",
    "\n",
    "plt.plot(x,y, label='Training Accuracy')\n",
    "plt.plot(x,y1,'g', label='Validation Accuracy')\n",
    "\n",
    "plt.ylabel('Classification Accuracy')\n",
    "plt.xlabel('Training Epoch')\n",
    "plt.title('Classification Accuracy Vs. Training Epoch Plot ')\n",
    "plt.legend(['Training','Validation'])"
   ]
  },
  {
   "cell_type": "markdown",
   "id": "d5456461",
   "metadata": {},
   "source": [
    "      Figure 4. Classification Accuracy Vs. Training Epoch Plot"
   ]
  },
  {
   "cell_type": "markdown",
   "id": "47196ef9",
   "metadata": {},
   "source": [
    "# Model 3: 4 Convolutionational Layers with 16 filters(layer 1,2), 32 Filters(Layer 3,4) with (ReLU Activation), and Valid Padding"
   ]
  },
  {
   "cell_type": "code",
   "execution_count": 29,
   "id": "7e3b32a6",
   "metadata": {},
   "outputs": [
    {
     "name": "stdout",
     "output_type": "stream",
     "text": [
      "Epoch 1/20\n",
      "1005/1005 [==============================] - 23s 23ms/step - loss: 0.8036 - accuracy: 0.6566 - val_loss: 0.6461 - val_accuracy: 0.7227\n",
      "Epoch 2/20\n",
      "1005/1005 [==============================] - 30s 30ms/step - loss: 0.6136 - accuracy: 0.7373 - val_loss: 0.6182 - val_accuracy: 0.7426\n",
      "Epoch 3/20\n",
      "1005/1005 [==============================] - 43s 42ms/step - loss: 0.5409 - accuracy: 0.7681 - val_loss: 0.5585 - val_accuracy: 0.7653\n",
      "Epoch 4/20\n",
      "1005/1005 [==============================] - 57s 56ms/step - loss: 0.5012 - accuracy: 0.7883 - val_loss: 0.5005 - val_accuracy: 0.7864\n",
      "Epoch 5/20\n",
      "1005/1005 [==============================] - 51s 50ms/step - loss: 0.4673 - accuracy: 0.8015 - val_loss: 0.5767 - val_accuracy: 0.7482\n",
      "Epoch 6/20\n",
      "1005/1005 [==============================] - 50s 50ms/step - loss: 0.4504 - accuracy: 0.8099 - val_loss: 0.4658 - val_accuracy: 0.8043\n",
      "Epoch 7/20\n",
      "1005/1005 [==============================] - 62s 62ms/step - loss: 0.4256 - accuracy: 0.8195 - val_loss: 0.4749 - val_accuracy: 0.8068\n",
      "Epoch 8/20\n",
      "1005/1005 [==============================] - 63s 62ms/step - loss: 0.4035 - accuracy: 0.8296 - val_loss: 0.4608 - val_accuracy: 0.8094\n",
      "Epoch 9/20\n",
      "1005/1005 [==============================] - 60s 59ms/step - loss: 0.3937 - accuracy: 0.8362 - val_loss: 0.4950 - val_accuracy: 0.7985\n",
      "Epoch 10/20\n",
      "1005/1005 [==============================] - 59s 59ms/step - loss: 0.3802 - accuracy: 0.8415 - val_loss: 0.4634 - val_accuracy: 0.8094\n",
      "Epoch 11/20\n",
      "1005/1005 [==============================] - 60s 60ms/step - loss: 0.3726 - accuracy: 0.8463 - val_loss: 0.4617 - val_accuracy: 0.8111\n",
      "Epoch 12/20\n",
      "1005/1005 [==============================] - 59s 59ms/step - loss: 0.3614 - accuracy: 0.8483 - val_loss: 0.4540 - val_accuracy: 0.8150\n",
      "Epoch 13/20\n",
      "1005/1005 [==============================] - 60s 60ms/step - loss: 0.3499 - accuracy: 0.8536 - val_loss: 0.4668 - val_accuracy: 0.8193\n",
      "Epoch 14/20\n",
      "1005/1005 [==============================] - 59s 58ms/step - loss: 0.3451 - accuracy: 0.8567 - val_loss: 0.4635 - val_accuracy: 0.8120\n",
      "Epoch 15/20\n",
      "1005/1005 [==============================] - 63s 63ms/step - loss: 0.3255 - accuracy: 0.8641 - val_loss: 0.4467 - val_accuracy: 0.8208\n",
      "Epoch 16/20\n",
      "1005/1005 [==============================] - 41s 40ms/step - loss: 0.3293 - accuracy: 0.8613 - val_loss: 0.4577 - val_accuracy: 0.8190s: 0.3293 - accuracy: 0.86\n",
      "Epoch 17/20\n",
      "1005/1005 [==============================] - 36s 36ms/step - loss: 0.3163 - accuracy: 0.8690 - val_loss: 0.4678 - val_accuracy: 0.8195\n",
      "Epoch 18/20\n",
      "1005/1005 [==============================] - 36s 36ms/step - loss: 0.3105 - accuracy: 0.8707 - val_loss: 0.4687 - val_accuracy: 0.8159\n",
      "Epoch 19/20\n",
      "1005/1005 [==============================] - 36s 36ms/step - loss: 0.3122 - accuracy: 0.8702 - val_loss: 0.4735 - val_accuracy: 0.8171\n",
      "Epoch 20/20\n",
      "1005/1005 [==============================] - 36s 36ms/step - loss: 0.3009 - accuracy: 0.8742 - val_loss: 0.4989 - val_accuracy: 0.8070\n"
     ]
    }
   ],
   "source": [
    "model3 = Sequential()\n",
    "\n",
    "model3.add(Conv2D(filters = 16, kernel_size = (5,5),padding = 'Same', \n",
    "                 activation ='relu', input_shape = (28,28,1)))\n",
    "model3.add(MaxPooling2D(pool_size=(2,2)))\n",
    "\n",
    "\n",
    "model3.add(Conv2D(filters = 16, kernel_size = (3,3),padding = 'Same', \n",
    "                 activation ='relu'))\n",
    "model3.add(MaxPooling2D(pool_size=(2,2), strides=(2,2)))\n",
    "\n",
    "\n",
    "model3.add(Conv2D(filters = 32, kernel_size = (3,3),padding = 'Same', \n",
    "                 activation ='relu'))\n",
    "model3.add(MaxPooling2D(pool_size=(2,2), strides=(2,2)))\n",
    "\n",
    "model3.add(Conv2D(filters = 32, kernel_size = (3,3),padding = 'Same', \n",
    "                 activation ='relu'))\n",
    "model3.add(MaxPooling2D(pool_size=(2,2), strides=(2,2)))\n",
    "\n",
    "\n",
    "model3.add(Flatten())\n",
    "model3.add(Dense(150, activation = \"relu\"))\n",
    "model3.add(Dense(5, activation = \"softmax\"))\n",
    "\n",
    "\n",
    "model3.compile(optimizer = keras.optimizers.Adam() , loss = \"categorical_crossentropy\", metrics=[\"accuracy\"])\n",
    "\n",
    "start=timeit.default_timer()\n",
    "classifier3=model3.fit(x_train,y_train,batch_size = 32,epochs = 20,verbose=1,validation_split= 0.33)\n",
    "stop=timeit.default_timer()"
   ]
  },
  {
   "cell_type": "markdown",
   "id": "8520f0d5",
   "metadata": {},
   "source": [
    "# Model 3 Training Accuracy:"
   ]
  },
  {
   "cell_type": "markdown",
   "id": "f7cb9673",
   "metadata": {},
   "source": [
    "The block below prints the total training time, the training accuracy and the validation accuracy."
   ]
  },
  {
   "cell_type": "code",
   "execution_count": 32,
   "id": "731d5169",
   "metadata": {},
   "outputs": [
    {
     "name": "stdout",
     "output_type": "stream",
     "text": [
      "Max. Accuracy for the Training Set:\n",
      "0.8741876482963562\n",
      "Max. Accuracy for the Validation Set:\n",
      "0.8207815289497375\n"
     ]
    }
   ],
   "source": [
    "\n",
    "print('Max. Accuracy for the Training Set:')\n",
    "print(max(classifier3.history['accuracy']))\n",
    "\n",
    "print('Max. Accuracy for the Validation Set:')\n",
    "print(max(classifier3.history['val_accuracy']))\n"
   ]
  },
  {
   "cell_type": "markdown",
   "id": "278470ff",
   "metadata": {},
   "source": [
    "# Training Loss vs. Training Epoch Plot"
   ]
  },
  {
   "cell_type": "code",
   "execution_count": 33,
   "id": "fc3f3f2f",
   "metadata": {},
   "outputs": [
    {
     "data": {
      "text/plain": [
       "<matplotlib.legend.Legend at 0x23386c2d8e0>"
      ]
     },
     "execution_count": 33,
     "metadata": {},
     "output_type": "execute_result"
    },
    {
     "data": {
      "image/png": "[encoded data removed]",
      "text/plain": [
       "<Figure size 432x288 with 1 Axes>"
      ]
     },
     "metadata": {
      "needs_background": "light"
     },
     "output_type": "display_data"
    }
   ],
   "source": [
    "y= classifier3.history['loss']\n",
    "x= range(0,20)\n",
    "y1=classifier3.history['val_loss']\n",
    "\n",
    "plt.plot(x,y,label='Training Loss')\n",
    "plt.plot(x,y1,'g',label='Validation Loss')\n",
    "\n",
    "plt.ylabel('Training Loss')\n",
    "plt.xlabel('Training Epoch')\n",
    "plt.title('Training Loss Vs. Training Epoch Plot ')\n",
    "plt.legend(['Training','Validation'])"
   ]
  },
  {
   "cell_type": "markdown",
   "id": "1aa542f1",
   "metadata": {},
   "source": [
    "        Figure 5. Training Loss Vs. Training Epoch Plot"
   ]
  },
  {
   "cell_type": "markdown",
   "id": "63b90fbf",
   "metadata": {},
   "source": [
    "# Classification Accuracy Vs. Training Epoch Plot"
   ]
  },
  {
   "cell_type": "code",
   "execution_count": 34,
   "id": "3ef16381",
   "metadata": {},
   "outputs": [
    {
     "data": {
      "text/plain": [
       "<matplotlib.legend.Legend at 0x23386e148e0>"
      ]
     },
     "execution_count": 34,
     "metadata": {},
     "output_type": "execute_result"
    },
    {
     "data": {
      "image/png": "[encoded data removed]",
      "text/plain": [
       "<Figure size 432x288 with 1 Axes>"
      ]
     },
     "metadata": {
      "needs_background": "light"
     },
     "output_type": "display_data"
    }
   ],
   "source": [
    "y= classifier3.history['accuracy']\n",
    "y1= classifier3.history['val_accuracy']\n",
    "x= range(0,20)\n",
    "\n",
    "plt.plot(x,y, label='Training Accuracy')\n",
    "plt.plot(x,y1,'g', label='Validation Accuracy')\n",
    "\n",
    "plt.ylabel('Classification Accuracy')\n",
    "plt.xlabel('Training Epoch')\n",
    "plt.title('Classification Accuracy Vs. Training Epoch Plot ')\n",
    "plt.legend(['Training','Validation'])"
   ]
  },
  {
   "cell_type": "markdown",
   "id": "794fcf24",
   "metadata": {},
   "source": [
    "      Figure 6. Classification Accuracy Vs. Training Epoch Plot"
   ]
  },
  {
   "cell_type": "markdown",
   "id": "710c183f",
   "metadata": {},
   "source": [
    "# Review"
   ]
  },
  {
   "cell_type": "markdown",
   "id": "19521adb",
   "metadata": {},
   "source": [
    "1. Runtime Performance:\n",
    "\n",
    "    A. Model 1: The maximum accuracy for the training set was 91.46% and the maximum accuracy for the validation set was 81.53%. On the 'Training loss Vs. Training Epoch' plot, the training loss error reached 0.2(20%) after 12 epochs. For the validation,  the training loss error reached 0.65(65%) after 14 epochs as shown in figure 1. On the 'Classification Accuracy Vs. Training Epoch Plot', the validation set curve settled at 0.78 epoach(78%) and the training curve reached almost 0.94(94%) in classification accuracy after about 17 epochs as shown in the figure 2.\n",
    "    \n",
    "    \n",
    "    B. Model 2: The maximum accuracy for the training set was 88.52% and the maximum accuracy for the validation set was 78.8%. On the 'Training loss Vs. Training Epoch' plot, the training loss error settled and remained below 0.4(40%) after 17 epochs. For the validation set, the training loss error went below 0.8 after 1 epoch but then came back up after 17 epochs as shown in figure 3. On the 'Classification Accuracy Vs. Training Epoch Plot', the validation set curve settled at 0.75 epoach(75%) and the training curve reached almost 0.9(90%) in classification accuracy after about 17 epochs as shown in the figure 4.\n",
    "    \n",
    "    C. Model 3: The maximum accuracy for the training set was 87.42% and the maximum accuracy for the validation set was 82.08%. On the 'Training loss Vs. Training Epoch' plot, the training loss error reached 0.3(30%) after 17 epochs. For the validation set, the training loss error reached and remained 0.47(47%)   shown in figure 5. On the 'Classification Accuracy Vs. Training Epoch Plot', the validation set curve remained at 0.8(80%) and the training curve reached 0.9(90%) in classification accuracy after about 2 epochs as shown in the figure 6.\n",
    "    \n",
    "    \n",
    "\n",
    "2. Comparison: Model 1 had the best performance, followed by Model 3. Model 2 had the worst performace as it only had 78.8% maximum accuracy in the validation dataset. "
   ]
  },
  {
   "cell_type": "markdown",
   "id": "1871ff7f",
   "metadata": {},
   "source": [
    "# References"
   ]
  },
  {
   "cell_type": "markdown",
   "id": "7b7da672",
   "metadata": {},
   "source": [
    "[1]https://www.datacamp.com/community/tutorials/convolutional-neural-networks-python#predictions\n",
    "\n",
    "[2]https://www.geeksforgeeks.org/types-of-padding-in-convolution-layer/"
   ]
  }
 ],
 "metadata": {
  "kernelspec": {
   "display_name": "Python 3",
   "language": "python",
   "name": "python3"
  },
  "language_info": {
   "codemirror_mode": {
    "name": "ipython",
    "version": 3
   },
   "file_extension": ".py",
   "mimetype": "text/x-python",
   "name": "python",
   "nbconvert_exporter": "python",
   "pygments_lexer": "ipython3",
   "version": "3.9.5"
  }
 },
 "nbformat": 4,
 "nbformat_minor": 5
}
